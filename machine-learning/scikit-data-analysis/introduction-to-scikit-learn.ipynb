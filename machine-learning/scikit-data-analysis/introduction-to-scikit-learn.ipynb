{
 "cells": [
  {
   "cell_type": "markdown",
   "id": "c51ff424-9383-4b70-873a-f3656010905a",
   "metadata": {},
   "source": [
    "# Introduction to Scikit-Learn (sklearn)\n",
    "\n",
    "This notebook demonstrates some of the most usuful functions of the Scikit-Learn library\n",
    "\n",
    "0. An end-to-end Scikit-Learn workflow.\n",
    "1. Getting the data ready\n",
    "2. Choose the right estimator/algorithm for our problems\n",
    "3. Fit the model/algorithmn and use it to make preditions on our data\n",
    "4. Evaluating a model\n",
    "5. Improve a model\n",
    "6. Save and load a trained model\n",
    "7. Putting it all together!"
   ]
  },
  {
   "cell_type": "markdown",
   "id": "317284e0-7c96-4cc7-af52-0c9a0fea55c2",
   "metadata": {},
   "source": [
    "## 0. An end-to-end Scikit-Learn workflow"
   ]
  },
  {
   "cell_type": "code",
   "execution_count": null,
   "id": "1c9c10cf-c8fc-4db4-aee6-bd6989c2d489",
   "metadata": {},
   "outputs": [],
   "source": []
  },
  {
   "cell_type": "markdown",
   "id": "6d284097-ab45-4f78-999e-c3126c2d10c9",
   "metadata": {},
   "source": [
    "## 1. Getting the data ready"
   ]
  },
  {
   "cell_type": "markdown",
   "id": "9fb1ba42-58ca-4474-ac29-64cad1d35ba3",
   "metadata": {},
   "source": [
    "## 2. Choose the right estimator/algorithm for our problems"
   ]
  },
  {
   "cell_type": "markdown",
   "id": "0e0f83d0-9ac8-491c-96be-30d6e61575a5",
   "metadata": {},
   "source": [
    "## 3. Fit the model/algorithmn and use it to make preditions on our data"
   ]
  },
  {
   "cell_type": "markdown",
   "id": "79c106c2-dfcd-48ed-b589-356e179d3ba9",
   "metadata": {},
   "source": [
    "## 4. Evaluating a model"
   ]
  },
  {
   "cell_type": "markdown",
   "id": "c89466fa-91f1-46a8-844a-6f7373db0a9c",
   "metadata": {},
   "source": [
    "## 5. Improve a model"
   ]
  },
  {
   "cell_type": "markdown",
   "id": "dd5d619f-1783-4190-a2dd-6aa63c5b0cd5",
   "metadata": {},
   "source": [
    "## 6. Save and load a trained model"
   ]
  },
  {
   "cell_type": "markdown",
   "id": "16d585b2-59a7-4f7d-abeb-43ec3162623e",
   "metadata": {},
   "source": [
    "## 7. Putting it all together!"
   ]
  }
 ],
 "metadata": {
  "kernelspec": {
   "display_name": "Python 3 (ipykernel)",
   "language": "python",
   "name": "python3"
  },
  "language_info": {
   "codemirror_mode": {
    "name": "ipython",
    "version": 3
   },
   "file_extension": ".py",
   "mimetype": "text/x-python",
   "name": "python",
   "nbconvert_exporter": "python",
   "pygments_lexer": "ipython3",
   "version": "3.12.0"
  }
 },
 "nbformat": 4,
 "nbformat_minor": 5
}
